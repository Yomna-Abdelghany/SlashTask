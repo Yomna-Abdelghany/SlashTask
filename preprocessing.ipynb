{
 "cells": [
  {
   "cell_type": "code",
   "execution_count": 2,
   "metadata": {},
   "outputs": [
    {
     "name": "stderr",
     "output_type": "stream",
     "text": [
      "C:\\Users\\user\\AppData\\Local\\Temp\\ipykernel_3364\\1461423437.py:3: DtypeWarning: Columns (21,23) have mixed types. Specify dtype option on import or set low_memory=False.\n",
      "  data = pd.read_csv(\"Amazon Sale Report.csv\",encoding='latin1')\n"
     ]
    }
   ],
   "source": [
    "#Reading the data\n",
    "import pandas as pd\n",
    "data = pd.read_csv(\"Amazon Sale Report.csv\",encoding='latin1')"
   ]
  },
  {
   "cell_type": "markdown",
   "metadata": {},
   "source": [
    "# Step2: Data Preprocessing"
   ]
  },
  {
   "cell_type": "code",
   "execution_count": 3,
   "metadata": {},
   "outputs": [],
   "source": [
    "import numpy as np\n",
    "from scipy.stats import zscore"
   ]
  },
  {
   "cell_type": "markdown",
   "metadata": {},
   "source": [
    "### Handling missing values\n"
   ]
  },
  {
   "cell_type": "code",
   "execution_count": 4,
   "metadata": {},
   "outputs": [],
   "source": [
    "\n",
    "for column in data.columns:\n",
    "    if data[column].dtype == 'float64':\n",
    "        data[column].fillna(data[column].mean(), inplace=True)\n",
    "    elif data[column].dtype == 'object':\n",
    "        data[column].fillna(data[column].mode()[0], inplace=True)\n"
   ]
  },
  {
   "cell_type": "markdown",
   "metadata": {},
   "source": [
    "### Data type Conversion"
   ]
  },
  {
   "cell_type": "code",
   "execution_count": 5,
   "metadata": {},
   "outputs": [
    {
     "data": {
      "text/plain": [
       "index                 float64\n",
       "Order ID               object\n",
       "Date                   object\n",
       "Status                 object\n",
       "Fulfilment             object\n",
       "Sales Channel          object\n",
       "ship-service-level     object\n",
       "Style                  object\n",
       "SKU                    object\n",
       "Category               object\n",
       "Size                   object\n",
       "ASIN                   object\n",
       "Courier Status         object\n",
       "Qty                   float64\n",
       "currency               object\n",
       "Amount                float64\n",
       "ship-city              object\n",
       "ship-state             object\n",
       "ship-postal-code      float64\n",
       "ship-country           object\n",
       "promotion-ids          object\n",
       "B2B                      bool\n",
       "fulfilled-by           object\n",
       "Unnamed: 22              bool\n",
       "dtype: object"
      ]
     },
     "execution_count": 5,
     "metadata": {},
     "output_type": "execute_result"
    }
   ],
   "source": [
    "data.dtypes"
   ]
  },
  {
   "cell_type": "code",
   "execution_count": 6,
   "metadata": {},
   "outputs": [
    {
     "name": "stderr",
     "output_type": "stream",
     "text": [
      "C:\\Users\\user\\AppData\\Local\\Temp\\ipykernel_3364\\3064529874.py:1: UserWarning: Could not infer format, so each element will be parsed individually, falling back to `dateutil`. To ensure parsing is consistent and as-expected, please specify a format.\n",
      "  data['Date'] = pd.to_datetime(data['Date'], errors='coerce')\n"
     ]
    }
   ],
   "source": [
    "data['Date'] = pd.to_datetime(data['Date'], errors='coerce')"
   ]
  },
  {
   "cell_type": "code",
   "execution_count": 7,
   "metadata": {},
   "outputs": [],
   "source": [
    "data['index'] = data['index'].astype(int)\n",
    "data['Qty'] = data['Qty'].astype(int)\n",
    "data['Amount'] = data['Amount'].astype(int)\n",
    "data['ship-postal-code'] = data['ship-postal-code'].astype(int)"
   ]
  },
  {
   "cell_type": "code",
   "execution_count": 8,
   "metadata": {},
   "outputs": [
    {
     "data": {
      "text/plain": [
       "index                          int32\n",
       "Order ID                      object\n",
       "Date                  datetime64[ns]\n",
       "Status                        object\n",
       "Fulfilment                    object\n",
       "Sales Channel                 object\n",
       "ship-service-level            object\n",
       "Style                         object\n",
       "SKU                           object\n",
       "Category                      object\n",
       "Size                          object\n",
       "ASIN                          object\n",
       "Courier Status                object\n",
       "Qty                            int32\n",
       "currency                      object\n",
       "Amount                         int32\n",
       "ship-city                     object\n",
       "ship-state                    object\n",
       "ship-postal-code               int32\n",
       "ship-country                  object\n",
       "promotion-ids                 object\n",
       "B2B                             bool\n",
       "fulfilled-by                  object\n",
       "Unnamed: 22                     bool\n",
       "dtype: object"
      ]
     },
     "execution_count": 8,
     "metadata": {},
     "output_type": "execute_result"
    }
   ],
   "source": [
    "data.dtypes"
   ]
  },
  {
   "cell_type": "markdown",
   "metadata": {},
   "source": [
    "### Handling Outliers"
   ]
  },
  {
   "cell_type": "code",
   "execution_count": 9,
   "metadata": {},
   "outputs": [],
   "source": [
    "numerical_columns = data.select_dtypes(include=['int32']).columns"
   ]
  },
  {
   "cell_type": "code",
   "execution_count": 10,
   "metadata": {},
   "outputs": [
    {
     "name": "stdout",
     "output_type": "stream",
     "text": [
      "Outliers in index:\n",
      " Empty DataFrame\n",
      "Columns: [index, zscore]\n",
      "Index: []\n",
      "Outliers in Qty:\n",
      "         Qty     zscore\n",
      "265       2   3.496130\n",
      "647       2   3.496130\n",
      "937      15  44.980613\n",
      "1018      2   3.496130\n",
      "1057      2   3.496130\n",
      "...     ...        ...\n",
      "126784    2   3.496130\n",
      "127401    2   3.496130\n",
      "128406    2   3.496130\n",
      "128705    2   3.496130\n",
      "128958    2   3.496130\n",
      "\n",
      "[388 rows x 2 columns]\n",
      "Outliers in Amount:\n",
      "         Amount    zscore\n",
      "299       1463  3.036635\n",
      "324       1902  4.669541\n",
      "349       1999  5.030342\n",
      "398       1463  3.036635\n",
      "416       1499  3.170541\n",
      "...        ...       ...\n",
      "128345    1559  3.393717\n",
      "128404    1556  3.382558\n",
      "128465    1473  3.073831\n",
      "128667    1477  3.088709\n",
      "128875    1523  3.259811\n",
      "\n",
      "[910 rows x 2 columns]\n",
      "Outliers in ship-postal-code:\n",
      " Empty DataFrame\n",
      "Columns: [ship-postal-code, zscore]\n",
      "Index: []\n"
     ]
    }
   ],
   "source": [
    "for column in numerical_columns:\n",
    "    data['zscore'] = zscore(data[column])\n",
    "    outliers = data[np.abs(data['zscore']) > 3]  # Threshold of 3 standard deviations\n",
    "    print(f\"Outliers in {column}:\\n\", outliers[[column, 'zscore']])\n",
    "    # Remove outliers\n",
    "    data = data[np.abs(data['zscore']) <= 3]\n",
    "\n",
    "# Drop the zscore column after outlier treatment\n",
    "data.drop(columns=['zscore'], inplace=True)"
   ]
  },
  {
   "cell_type": "code",
   "execution_count": 14,
   "metadata": {},
   "outputs": [],
   "source": [
    "# Remove leading and trailing spaces from column names\n",
    "clean_columns = [column.strip() for column in data.columns]\n",
    "\n",
    "# Remove leading and trailing spaces from data rows\n",
    "clean_data = data.applymap(lambda x: x.strip() if isinstance(x, str) else x)\n"
   ]
  },
  {
   "cell_type": "code",
   "execution_count": 15,
   "metadata": {},
   "outputs": [],
   "source": [
    "clean_data.to_csv('Cleaned_Amazon_Sale_Report.csv', index=False)"
   ]
  },
  {
   "cell_type": "code",
   "execution_count": null,
   "metadata": {},
   "outputs": [],
   "source": []
  }
 ],
 "metadata": {
  "kernelspec": {
   "display_name": "base",
   "language": "python",
   "name": "python3"
  },
  "language_info": {
   "codemirror_mode": {
    "name": "ipython",
    "version": 3
   },
   "file_extension": ".py",
   "mimetype": "text/x-python",
   "name": "python",
   "nbconvert_exporter": "python",
   "pygments_lexer": "ipython3",
   "version": "3.11.5"
  }
 },
 "nbformat": 4,
 "nbformat_minor": 2
}
